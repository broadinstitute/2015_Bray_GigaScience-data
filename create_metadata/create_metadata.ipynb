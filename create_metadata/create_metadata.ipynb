{
 "cells": [
  {
   "cell_type": "code",
   "execution_count": 1,
   "metadata": {},
   "outputs": [],
   "source": [
    "import pandas as pd\n",
    "import numpy as np"
   ]
  },
  {
   "cell_type": "code",
   "execution_count": 2,
   "metadata": {},
   "outputs": [],
   "source": [
    "barcode_platemap_col_order = ['Plate_Map_Name', 'Assay_Plate_Barcode']\n",
    "plate_map_col_order = ['well_position', 'broad_sample', 'mmoles_per_liter', 'solvent']\n",
    "external_metadata_col_order = ['broad_sample', 'cpd_name', 'cpd_name_type', 'cpd_sample_id', 'pert_type', 'control_type', 'dos_library', 'source_name', 'chemist_name', 'vendor_catalog_id', 'user_comment', 'smiles']"
   ]
  },
  {
   "cell_type": "markdown",
   "metadata": {},
   "source": [
    "Read barcode platemap file"
   ]
  },
  {
   "cell_type": "code",
   "execution_count": 3,
   "metadata": {},
   "outputs": [
    {
     "data": {
      "text/plain": [
       "(413, 2)"
      ]
     },
     "execution_count": 3,
     "metadata": {},
     "output_type": "execute_result"
    }
   ],
   "source": [
    "barcode_platemap = (\n",
    "    pd.read_csv('../2015_Bray_GigaScience/barcode_platemap_25412.csv')\n",
    "    .replace(25412, 24512)\n",
    ")\n",
    "barcode_platemap.shape"
   ]
  },
  {
   "cell_type": "markdown",
   "metadata": {},
   "source": [
    "Remove plates that were removed previously "
   ]
  },
  {
   "cell_type": "code",
   "execution_count": 4,
   "metadata": {},
   "outputs": [
    {
     "data": {
      "text/plain": [
       "(406, 2)"
      ]
     },
     "execution_count": 4,
     "metadata": {},
     "output_type": "execute_result"
    }
   ],
   "source": [
    "plates_to_remove = (\n",
    "    pd.read_csv('../2015_Bray_GigaScience/plates_to_remove_from_giga.csv')\n",
    "    .rename(columns={'plateid': 'Assay_Plate_Barcode'})\n",
    ")\n",
    "\n",
    "barcode_platemap = barcode_platemap.query('Assay_Plate_Barcode!=list(@plates_to_remove.Assay_Plate_Barcode)').reset_index(drop=True)\n",
    "barcode_platemap.shape"
   ]
  },
  {
   "cell_type": "markdown",
   "metadata": {},
   "source": [
    "Drop plate `25568` whose features were not extracted (https://github.com/broadinstitute/cellpainting-gallery/issues/13#issuecomment-1255525365)"
   ]
  },
  {
   "cell_type": "code",
   "execution_count": 5,
   "metadata": {},
   "outputs": [
    {
     "data": {
      "text/plain": [
       "(405, 2)"
      ]
     },
     "execution_count": 5,
     "metadata": {},
     "output_type": "execute_result"
    }
   ],
   "source": [
    "barcode_platemap = barcode_platemap.query('Assay_Plate_Barcode!=\"25568\"').reset_index(drop=True)\n",
    "barcode_platemap.shape"
   ]
  },
  {
   "cell_type": "markdown",
   "metadata": {},
   "source": [
    "Create barcode_platemap, platemap and external_metadata files"
   ]
  },
  {
   "cell_type": "code",
   "execution_count": 6,
   "metadata": {},
   "outputs": [
    {
     "data": {
      "text/plain": [
       "(405, 2)"
      ]
     },
     "execution_count": 6,
     "metadata": {},
     "output_type": "execute_result"
    }
   ],
   "source": [
    "external_metadata = pd.DataFrame()\n",
    "\n",
    "for plate_name in barcode_platemap.Assay_Plate_Barcode.unique():\n",
    "    plate_map_name = barcode_platemap.query('Assay_Plate_Barcode==@plate_name').Plate_Map_Name.values[0]\n",
    "    platemap_df = (\n",
    "        pd.read_csv(f'../2015_Bray_GigaScience/platemap/{plate_map_name}.txt', sep='\\t')\n",
    "        .rename(columns={'ASSAY_WELL_ROLE': 'pert_type'})\n",
    "        .replace({'mock': 'control', 'treated': 'trt'})\n",
    "        .sort_values(by='well_position')\n",
    "        .reset_index(drop=True)\n",
    "    )\n",
    "    platemap_df['well_position'] = platemap_df['well_position'].str.upper()\n",
    "    platemap_df['control_type'] = np.where(platemap_df['pert_type'] == \"control\", \"negcon\", \"\")\n",
    "\n",
    "    temp_df = (\n",
    "        platemap_df[['broad_sample', 'pert_type', 'control_type']].copy()\n",
    "    )\n",
    "\n",
    "    if external_metadata.shape[0] == 0:\n",
    "        external_metadata = temp_df.copy()\n",
    "    else:\n",
    "        external_metadata = pd.concat([external_metadata, temp_df], ignore_index=True, join=\"inner\")\n",
    "\n",
    "    platemap_df[plate_map_col_order].to_csv(f'../metadata/platemaps/CDRP/platemap/{plate_map_name}.txt', sep='\\t', index=False)\n",
    "\n",
    "barcode_platemap.shape"
   ]
  },
  {
   "cell_type": "code",
   "execution_count": 7,
   "metadata": {},
   "outputs": [
    {
     "data": {
      "text/plain": [
       "(154696, 3)"
      ]
     },
     "execution_count": 7,
     "metadata": {},
     "output_type": "execute_result"
    }
   ],
   "source": [
    "external_metadata.shape"
   ]
  },
  {
   "cell_type": "markdown",
   "metadata": {},
   "source": [
    "Remove duplicates"
   ]
  },
  {
   "cell_type": "code",
   "execution_count": 8,
   "metadata": {},
   "outputs": [
    {
     "data": {
      "text/plain": [
       "(30617, 3)"
      ]
     },
     "execution_count": 8,
     "metadata": {},
     "output_type": "execute_result"
    }
   ],
   "source": [
    "external_metadata.drop_duplicates(inplace=True)\n",
    "external_metadata.shape"
   ]
  },
  {
   "cell_type": "markdown",
   "metadata": {},
   "source": [
    "Add additional metadata"
   ]
  },
  {
   "cell_type": "code",
   "execution_count": 9,
   "metadata": {},
   "outputs": [],
   "source": [
    "from operator import add\n",
    "\n",
    "\n",
    "additional_metadata = (\n",
    "    pd.read_csv('input/additional_metadata.csv')\n",
    "    .rename(columns={\n",
    "        'BROAD_ID': 'broad_sample',\n",
    "        'CPD_NAME': 'cpd_name',\n",
    "        'CPD_NAME_TYPE': 'cpd_name_type',\n",
    "        'CPD_SAMPLE_ID': 'cpd_sample_id',\n",
    "        'DOS_LIBRARY': 'dos_library',\n",
    "        'SOURCE_NAME': 'source_name',\n",
    "        'CHEMIST_NAME': 'chemist_name',\n",
    "        'VENDOR_CATALOG_ID': 'vendor_catalog_id',\n",
    "        'CPD_SMILES': 'smiles',\n",
    "        'USERCOMMENT': 'user_comment',\n",
    "    })\n",
    ")\n",
    "\n",
    "external_metadata = (\n",
    "    external_metadata.merge(additional_metadata, on='broad_sample', how='left')\n",
    "    .sort_values(by='broad_sample')\n",
    "    .reset_index(drop=True)\n",
    ")"
   ]
  },
  {
   "cell_type": "markdown",
   "metadata": {},
   "source": [
    "Update DMSO info"
   ]
  },
  {
   "cell_type": "code",
   "execution_count": 10,
   "metadata": {},
   "outputs": [],
   "source": [
    "external_metadata.loc[external_metadata.pert_type==\"control\", 'smiles'] = \"CS(=O)C\"\n",
    "external_metadata.loc[external_metadata.pert_type==\"control\", 'cpd_name'] = \"DMSO\""
   ]
  },
  {
   "cell_type": "code",
   "execution_count": 11,
   "metadata": {},
   "outputs": [],
   "source": [
    "barcode_platemap[barcode_platemap_col_order].to_csv('../metadata/platemaps/CDRP/barcode_platemap.csv', index=False)\n",
    "external_metadata[external_metadata_col_order].to_csv('../metadata/external_metadata/cdrp_compounds.tsv', sep='\\t', index=False)"
   ]
  }
 ],
 "metadata": {
  "kernelspec": {
   "display_name": "Python 3.8.5 ('metadata')",
   "language": "python",
   "name": "python3"
  },
  "language_info": {
   "codemirror_mode": {
    "name": "ipython",
    "version": 3
   },
   "file_extension": ".py",
   "mimetype": "text/x-python",
   "name": "python",
   "nbconvert_exporter": "python",
   "pygments_lexer": "ipython3",
   "version": "3.8.5"
  },
  "orig_nbformat": 4,
  "vscode": {
   "interpreter": {
    "hash": "276c9b98493c2b9d4165a0ce3e026de7586ed9675002e171004e9b7ab2c654dd"
   }
  }
 },
 "nbformat": 4,
 "nbformat_minor": 2
}
